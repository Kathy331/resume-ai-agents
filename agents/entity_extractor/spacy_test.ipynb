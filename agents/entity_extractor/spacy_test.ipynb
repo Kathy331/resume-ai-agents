{
 "cells": [
  {
   "cell_type": "markdown",
   "id": "88bf77ee",
   "metadata": {},
   "source": [
    "## This is a Spacy Testing Note Book\n",
    "## Please watch: https://www.youtube.com/watch?v=dIUTsFT2MeQ&t=713s for any confusion"
   ]
  },
  {
   "cell_type": "code",
   "execution_count": 4,
   "id": "a2d62b41",
   "metadata": {},
   "outputs": [
    {
     "name": "stdout",
     "output_type": "stream",
     "text": [
      "Requirement already satisfied: spacy in /Users/kathychen/VisualStudioCode/Hackaton/General-Seed camp 2025/Final/resume-ai-agents/.venv/lib/python3.10/site-packages (3.8.7)\n",
      "Requirement already satisfied: spacy-legacy<3.1.0,>=3.0.11 in /Users/kathychen/VisualStudioCode/Hackaton/General-Seed camp 2025/Final/resume-ai-agents/.venv/lib/python3.10/site-packages (from spacy) (3.0.12)\n",
      "Requirement already satisfied: spacy-loggers<2.0.0,>=1.0.0 in /Users/kathychen/VisualStudioCode/Hackaton/General-Seed camp 2025/Final/resume-ai-agents/.venv/lib/python3.10/site-packages (from spacy) (1.0.5)\n",
      "Requirement already satisfied: murmurhash<1.1.0,>=0.28.0 in /Users/kathychen/VisualStudioCode/Hackaton/General-Seed camp 2025/Final/resume-ai-agents/.venv/lib/python3.10/site-packages (from spacy) (1.0.13)\n",
      "Requirement already satisfied: cymem<2.1.0,>=2.0.2 in /Users/kathychen/VisualStudioCode/Hackaton/General-Seed camp 2025/Final/resume-ai-agents/.venv/lib/python3.10/site-packages (from spacy) (2.0.11)\n",
      "Requirement already satisfied: preshed<3.1.0,>=3.0.2 in /Users/kathychen/VisualStudioCode/Hackaton/General-Seed camp 2025/Final/resume-ai-agents/.venv/lib/python3.10/site-packages (from spacy) (3.0.10)\n",
      "Requirement already satisfied: thinc<8.4.0,>=8.3.4 in /Users/kathychen/VisualStudioCode/Hackaton/General-Seed camp 2025/Final/resume-ai-agents/.venv/lib/python3.10/site-packages (from spacy) (8.3.6)\n",
      "Requirement already satisfied: wasabi<1.2.0,>=0.9.1 in /Users/kathychen/VisualStudioCode/Hackaton/General-Seed camp 2025/Final/resume-ai-agents/.venv/lib/python3.10/site-packages (from spacy) (1.1.3)\n",
      "Requirement already satisfied: srsly<3.0.0,>=2.4.3 in /Users/kathychen/VisualStudioCode/Hackaton/General-Seed camp 2025/Final/resume-ai-agents/.venv/lib/python3.10/site-packages (from spacy) (2.5.1)\n",
      "Requirement already satisfied: catalogue<2.1.0,>=2.0.6 in /Users/kathychen/VisualStudioCode/Hackaton/General-Seed camp 2025/Final/resume-ai-agents/.venv/lib/python3.10/site-packages (from spacy) (2.0.10)\n",
      "Requirement already satisfied: weasel<0.5.0,>=0.1.0 in /Users/kathychen/VisualStudioCode/Hackaton/General-Seed camp 2025/Final/resume-ai-agents/.venv/lib/python3.10/site-packages (from spacy) (0.4.1)\n",
      "Requirement already satisfied: typer<1.0.0,>=0.3.0 in /Users/kathychen/VisualStudioCode/Hackaton/General-Seed camp 2025/Final/resume-ai-agents/.venv/lib/python3.10/site-packages (from spacy) (0.16.0)\n",
      "Requirement already satisfied: tqdm<5.0.0,>=4.38.0 in /Users/kathychen/VisualStudioCode/Hackaton/General-Seed camp 2025/Final/resume-ai-agents/.venv/lib/python3.10/site-packages (from spacy) (4.67.1)\n",
      "Requirement already satisfied: numpy>=1.19.0 in /Users/kathychen/VisualStudioCode/Hackaton/General-Seed camp 2025/Final/resume-ai-agents/.venv/lib/python3.10/site-packages (from spacy) (2.2.6)\n",
      "Requirement already satisfied: requests<3.0.0,>=2.13.0 in /Users/kathychen/VisualStudioCode/Hackaton/General-Seed camp 2025/Final/resume-ai-agents/.venv/lib/python3.10/site-packages (from spacy) (2.32.4)\n",
      "Requirement already satisfied: pydantic!=1.8,!=1.8.1,<3.0.0,>=1.7.4 in /Users/kathychen/VisualStudioCode/Hackaton/General-Seed camp 2025/Final/resume-ai-agents/.venv/lib/python3.10/site-packages (from spacy) (2.11.7)\n",
      "Requirement already satisfied: jinja2 in /Users/kathychen/VisualStudioCode/Hackaton/General-Seed camp 2025/Final/resume-ai-agents/.venv/lib/python3.10/site-packages (from spacy) (3.1.6)\n",
      "Requirement already satisfied: setuptools in /Users/kathychen/VisualStudioCode/Hackaton/General-Seed camp 2025/Final/resume-ai-agents/.venv/lib/python3.10/site-packages (from spacy) (57.4.0)\n",
      "Requirement already satisfied: packaging>=20.0 in /Users/kathychen/VisualStudioCode/Hackaton/General-Seed camp 2025/Final/resume-ai-agents/.venv/lib/python3.10/site-packages (from spacy) (25.0)\n",
      "Requirement already satisfied: langcodes<4.0.0,>=3.2.0 in /Users/kathychen/VisualStudioCode/Hackaton/General-Seed camp 2025/Final/resume-ai-agents/.venv/lib/python3.10/site-packages (from spacy) (3.5.0)\n",
      "Requirement already satisfied: language-data>=1.2 in /Users/kathychen/VisualStudioCode/Hackaton/General-Seed camp 2025/Final/resume-ai-agents/.venv/lib/python3.10/site-packages (from langcodes<4.0.0,>=3.2.0->spacy) (1.3.0)\n",
      "Requirement already satisfied: annotated-types>=0.6.0 in /Users/kathychen/VisualStudioCode/Hackaton/General-Seed camp 2025/Final/resume-ai-agents/.venv/lib/python3.10/site-packages (from pydantic!=1.8,!=1.8.1,<3.0.0,>=1.7.4->spacy) (0.7.0)\n",
      "Requirement already satisfied: pydantic-core==2.33.2 in /Users/kathychen/VisualStudioCode/Hackaton/General-Seed camp 2025/Final/resume-ai-agents/.venv/lib/python3.10/site-packages (from pydantic!=1.8,!=1.8.1,<3.0.0,>=1.7.4->spacy) (2.33.2)\n",
      "Requirement already satisfied: typing-extensions>=4.12.2 in /Users/kathychen/VisualStudioCode/Hackaton/General-Seed camp 2025/Final/resume-ai-agents/.venv/lib/python3.10/site-packages (from pydantic!=1.8,!=1.8.1,<3.0.0,>=1.7.4->spacy) (4.14.1)\n",
      "Requirement already satisfied: typing-inspection>=0.4.0 in /Users/kathychen/VisualStudioCode/Hackaton/General-Seed camp 2025/Final/resume-ai-agents/.venv/lib/python3.10/site-packages (from pydantic!=1.8,!=1.8.1,<3.0.0,>=1.7.4->spacy) (0.4.1)\n",
      "Requirement already satisfied: charset_normalizer<4,>=2 in /Users/kathychen/VisualStudioCode/Hackaton/General-Seed camp 2025/Final/resume-ai-agents/.venv/lib/python3.10/site-packages (from requests<3.0.0,>=2.13.0->spacy) (3.4.2)\n",
      "Requirement already satisfied: idna<4,>=2.5 in /Users/kathychen/VisualStudioCode/Hackaton/General-Seed camp 2025/Final/resume-ai-agents/.venv/lib/python3.10/site-packages (from requests<3.0.0,>=2.13.0->spacy) (3.10)\n",
      "Requirement already satisfied: urllib3<3,>=1.21.1 in /Users/kathychen/VisualStudioCode/Hackaton/General-Seed camp 2025/Final/resume-ai-agents/.venv/lib/python3.10/site-packages (from requests<3.0.0,>=2.13.0->spacy) (2.5.0)\n",
      "Requirement already satisfied: certifi>=2017.4.17 in /Users/kathychen/VisualStudioCode/Hackaton/General-Seed camp 2025/Final/resume-ai-agents/.venv/lib/python3.10/site-packages (from requests<3.0.0,>=2.13.0->spacy) (2025.7.14)\n",
      "Requirement already satisfied: blis<1.4.0,>=1.3.0 in /Users/kathychen/VisualStudioCode/Hackaton/General-Seed camp 2025/Final/resume-ai-agents/.venv/lib/python3.10/site-packages (from thinc<8.4.0,>=8.3.4->spacy) (1.3.0)\n",
      "Requirement already satisfied: confection<1.0.0,>=0.0.1 in /Users/kathychen/VisualStudioCode/Hackaton/General-Seed camp 2025/Final/resume-ai-agents/.venv/lib/python3.10/site-packages (from thinc<8.4.0,>=8.3.4->spacy) (0.1.5)\n",
      "Requirement already satisfied: click>=8.0.0 in /Users/kathychen/VisualStudioCode/Hackaton/General-Seed camp 2025/Final/resume-ai-agents/.venv/lib/python3.10/site-packages (from typer<1.0.0,>=0.3.0->spacy) (8.2.1)\n",
      "Requirement already satisfied: shellingham>=1.3.0 in /Users/kathychen/VisualStudioCode/Hackaton/General-Seed camp 2025/Final/resume-ai-agents/.venv/lib/python3.10/site-packages (from typer<1.0.0,>=0.3.0->spacy) (1.5.4)\n",
      "Requirement already satisfied: rich>=10.11.0 in /Users/kathychen/VisualStudioCode/Hackaton/General-Seed camp 2025/Final/resume-ai-agents/.venv/lib/python3.10/site-packages (from typer<1.0.0,>=0.3.0->spacy) (14.1.0)\n",
      "Requirement already satisfied: cloudpathlib<1.0.0,>=0.7.0 in /Users/kathychen/VisualStudioCode/Hackaton/General-Seed camp 2025/Final/resume-ai-agents/.venv/lib/python3.10/site-packages (from weasel<0.5.0,>=0.1.0->spacy) (0.21.1)\n",
      "Requirement already satisfied: smart-open<8.0.0,>=5.2.1 in /Users/kathychen/VisualStudioCode/Hackaton/General-Seed camp 2025/Final/resume-ai-agents/.venv/lib/python3.10/site-packages (from weasel<0.5.0,>=0.1.0->spacy) (7.3.0.post1)\n",
      "Requirement already satisfied: wrapt in /Users/kathychen/VisualStudioCode/Hackaton/General-Seed camp 2025/Final/resume-ai-agents/.venv/lib/python3.10/site-packages (from smart-open<8.0.0,>=5.2.1->weasel<0.5.0,>=0.1.0->spacy) (1.17.2)\n",
      "Requirement already satisfied: marisa-trie>=1.1.0 in /Users/kathychen/VisualStudioCode/Hackaton/General-Seed camp 2025/Final/resume-ai-agents/.venv/lib/python3.10/site-packages (from language-data>=1.2->langcodes<4.0.0,>=3.2.0->spacy) (1.2.1)\n",
      "Requirement already satisfied: markdown-it-py>=2.2.0 in /Users/kathychen/VisualStudioCode/Hackaton/General-Seed camp 2025/Final/resume-ai-agents/.venv/lib/python3.10/site-packages (from rich>=10.11.0->typer<1.0.0,>=0.3.0->spacy) (3.0.0)\n",
      "Requirement already satisfied: pygments<3.0.0,>=2.13.0 in /Users/kathychen/VisualStudioCode/Hackaton/General-Seed camp 2025/Final/resume-ai-agents/.venv/lib/python3.10/site-packages (from rich>=10.11.0->typer<1.0.0,>=0.3.0->spacy) (2.19.2)\n",
      "Requirement already satisfied: mdurl~=0.1 in /Users/kathychen/VisualStudioCode/Hackaton/General-Seed camp 2025/Final/resume-ai-agents/.venv/lib/python3.10/site-packages (from markdown-it-py>=2.2.0->rich>=10.11.0->typer<1.0.0,>=0.3.0->spacy) (0.1.2)\n",
      "Requirement already satisfied: MarkupSafe>=2.0 in /Users/kathychen/VisualStudioCode/Hackaton/General-Seed camp 2025/Final/resume-ai-agents/.venv/lib/python3.10/site-packages (from jinja2->spacy) (3.0.2)\n"
     ]
    }
   ],
   "source": [
    "!pip install spacy "
   ]
  },
  {
   "cell_type": "code",
   "execution_count": 5,
   "id": "1b22eedc",
   "metadata": {},
   "outputs": [
    {
     "name": "stdout",
     "output_type": "stream",
     "text": [
      "Collecting en-core-web-sm==3.8.0\n",
      "  Downloading https://github.com/explosion/spacy-models/releases/download/en_core_web_sm-3.8.0/en_core_web_sm-3.8.0-py3-none-any.whl (12.8 MB)\n",
      "\u001b[2K     \u001b[90m━━━━━━━━━━━━━━━━━━━━━━━━━━━━━━━━━━━━━━━\u001b[0m \u001b[32m12.8/12.8 MB\u001b[0m \u001b[31m921.8 kB/s\u001b[0m eta \u001b[36m0:00:00\u001b[0m00:01\u001b[0m0:01\u001b[0m\n",
      "\u001b[?25h\u001b[38;5;2m✔ Download and installation successful\u001b[0m\n",
      "You can now load the package via spacy.load('en_core_web_sm')\n"
     ]
    }
   ],
   "source": [
    "!python -m spacy download en_core_web_sm"
   ]
  },
  {
   "cell_type": "code",
   "execution_count": 6,
   "id": "a275822e",
   "metadata": {},
   "outputs": [],
   "source": [
    "import spacy\n"
   ]
  },
  {
   "cell_type": "code",
   "execution_count": null,
   "id": "f1d1127a",
   "metadata": {},
   "outputs": [],
   "source": [
    "nlp = spacy.load(\"en_core_web_sm\")\n",
    "#if this run, then the model is downloaded successfully"
   ]
  },
  {
   "cell_type": "code",
   "execution_count": null,
   "id": "d74ccae8",
   "metadata": {},
   "outputs": [],
   "source": []
  }
 ],
 "metadata": {
  "kernelspec": {
   "display_name": ".venv",
   "language": "python",
   "name": "python3"
  },
  "language_info": {
   "codemirror_mode": {
    "name": "ipython",
    "version": 3
   },
   "file_extension": ".py",
   "mimetype": "text/x-python",
   "name": "python",
   "nbconvert_exporter": "python",
   "pygments_lexer": "ipython3",
   "version": "3.10.0"
  }
 },
 "nbformat": 4,
 "nbformat_minor": 5
}
